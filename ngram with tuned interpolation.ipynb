{
 "cells": [
  {
   "cell_type": "code",
   "execution_count": 16,
   "metadata": {},
   "outputs": [],
   "source": [
    "import numpy as np\n",
    "import matplotlib.pyplot as plt\n",
    "import nltk\n",
    "from nltk.corpus import brown\n",
    "from nltk.corpus import gutenberg\n",
    "from sklearn.model_selection import train_test_split\n",
    "import itertools\n",
    "import string\n",
    "import math"
   ]
  },
  {
   "cell_type": "code",
   "execution_count": 34,
   "metadata": {},
   "outputs": [],
   "source": [
    "START = '<s>'\n",
    "STOP = '</s>'\n",
    "UNK = '<unk>'\n",
    "lamb1 = [0.1, 0.2, 0.3, 0.4, 0.5, 0.6, 0.7, 0.8]\n",
    "lamb2 = [0.1, 0.2, 0.3, 0.4, 0.5, 0.6, 0.7, 0.8]\n",
    "punc = list(string.punctuation)\n"
   ]
  },
  {
   "cell_type": "code",
   "execution_count": 18,
   "metadata": {},
   "outputs": [],
   "source": [
    "def preprocess_Train_data(data):\n",
    "    for line in data :\n",
    "        line.insert(0,START)\n",
    "        line.insert(0,START)\n",
    "        line.append(STOP)\n",
    "    words = list(itertools.chain.from_iterable(data))\n",
    "    data_words = [x.lower() for x in words]\n",
    "    data_words.append(UNK)\n",
    "    freq = nltk.FreqDist(data_words)\n",
    "    unknown = list()\n",
    "    for word in freq.keys():\n",
    "        if freq[word] == 1:\n",
    "            unknown.append(word)\n",
    "    unknown = set(unknown)\n",
    "    vocab = list()\n",
    "    for w in data_words :\n",
    "        if w in unknown :\n",
    "            vocab.append(UNK)\n",
    "        else :\n",
    "            vocab.append(w)\n",
    "    data_words = vocab\n",
    "    return data , words, data_words ,unknown"
   ]
  },
  {
   "cell_type": "code",
   "execution_count": 19,
   "metadata": {},
   "outputs": [],
   "source": [
    "def create_bigram_table( data_words ):\n",
    "    cfreq_2gram = nltk.ConditionalFreqDist(nltk.bigrams(data_words))\n",
    "    cprob_2gram = nltk.ConditionalProbDist(cfreq_2gram, nltk.MLEProbDist)\n",
    "    return cfreq_2gram,cprob_2gram"
   ]
  },
  {
   "cell_type": "code",
   "execution_count": 20,
   "metadata": {},
   "outputs": [],
   "source": [
    "def create_trigram_table( data_words ):\n",
    "    trigrams = nltk.trigrams(data_words)\n",
    "    sen = list()\n",
    "    sen = [((a,b),c) for (a,b,c) in trigrams]\n",
    "    cfreq_3gram = nltk.ConditionalFreqDist(sen)\n",
    "    cprob_3gram = nltk.ConditionalProbDist(cfreq_3gram, nltk.MLEProbDist)\n",
    "    return cfreq_3gram,cprob_3gram    "
   ]
  },
  {
   "cell_type": "code",
   "execution_count": 21,
   "metadata": {},
   "outputs": [],
   "source": [
    "def unigram_prob ( word, freq_1gram,len_):\n",
    "    return freq_1gram[ word] / float(len_)"
   ]
  },
  {
   "cell_type": "code",
   "execution_count": 22,
   "metadata": {},
   "outputs": [],
   "source": [
    "def katz ( w1 , w2 , w3 , cprob_3gram , cprob_2gram ,freq_1gram,len_):\n",
    "        if cprob_3gram[(w1,w2)].prob(w3) > 0:\n",
    "            #print 3 \n",
    "            return cprob_3gram[(w1,w2)].prob(w3)\n",
    "        else:\n",
    "            if cprob_2gram[w2].prob(w3) > 0:\n",
    "                #print 2\n",
    "                return cprob_2gram[w2].prob(w3)\n",
    "            else :\n",
    "                #print 1\n",
    "                return unigram_prob(w3,freq_1gram,len_)"
   ]
  },
  {
   "cell_type": "code",
   "execution_count": 23,
   "metadata": {},
   "outputs": [],
   "source": [
    "def interpolate( w1 , w2 , w3 , cprob_3gram , cprob_2gram ,freq_1gram,len_,l1,l2,l3):\n",
    "    x = cprob_3gram[(w1,w2)].prob(w3)\n",
    "    y = cprob_2gram[w2].prob(w3)\n",
    "    z = unigram_prob(w3 ,freq_1gram,len_)\n",
    "    return l1*x + l2*y + l3*z\n"
   ]
  },
  {
   "cell_type": "code",
   "execution_count": 24,
   "metadata": {},
   "outputs": [],
   "source": [
    "def preprocess_test(Test,vocab_set):\n",
    "    test = []\n",
    "    for line in Test :\n",
    "        t = []\n",
    "        for word in line :\n",
    "            if word not in vocab_set :\n",
    "                t.append(UNK)\n",
    "            else :\n",
    "                t.append(word)\n",
    "        #t = [i.lower() for i in line if i not in punc]\n",
    "        t.append(STOP)\n",
    "        t.insert(0,START)\n",
    "        t.insert(0,START)\n",
    "        test.append(t)\n",
    "    return test"
   ]
  },
  {
   "cell_type": "code",
   "execution_count": 25,
   "metadata": {},
   "outputs": [],
   "source": [
    "def evaluate_perplexity(test,cprob_3gram,cprob_2gram,freq_1gram,len_,l1,l2,l3):\n",
    "    perp = 0\n",
    "    n = 0\n",
    "    for line in test :\n",
    "        for i in range(2,len(line)):\n",
    "            #val = katz(line[i-2],line[i-1],line[i],cprob_3gram,cprob_2gram,freq_1gram,len_)\n",
    "            val = interpolate(line[i-2],line[i-1],line[i],cprob_3gram,cprob_2gram,freq_1gram,len_,l1,l2,l3)\n",
    "            perp += math.log(val,2)\n",
    "        n += len(line)\n",
    "    perp = (-1) * (perp / float(n))\n",
    "    return  2**perp"
   ]
  },
  {
   "cell_type": "code",
   "execution_count": 26,
   "metadata": {},
   "outputs": [],
   "source": [
    "def create_model(Train , Test):\n",
    "    Train, words, Train_words, unknown = preprocess_Train_data ( Train)\n",
    "    print \"step1\"\n",
    "    vocab_set = set( Train_words)\n",
    "    print \"step2\"\n",
    "    freq_1gram = nltk.FreqDist(Train_words)\n",
    "    len_ = len(Train_words)\n",
    "    print \"step3\"\n",
    "    cfreq_2gram, cprob_2gram = create_bigram_table ( Train_words)\n",
    "    print \"step3\"\n",
    "    cfreq_3gram, cprob_3gram = create_trigram_table ( Train_words)\n",
    "    print \"step4\"\n",
    "    test = preprocess_test ( Test,vocab_set)\n",
    "    print \"step5\"\n",
    "    return cprob_3gram,cprob_2gram,freq_1gram,len_,test \n"
   ]
  },
  {
   "cell_type": "code",
   "execution_count": 35,
   "metadata": {},
   "outputs": [],
   "source": [
    "def try_dataset(dataset):\n",
    "    if dataset == \"brown\":\n",
    "        brown_sent = brown.sents()\n",
    "        D1_Train,D1_Test = train_test_split(brown_sent,train_size = 0.8 , random_state = 11)\n",
    "        dataset1=[len(D1_Train),len(D1_Test),0,0]\n",
    "        cprob_3gram,cprob_2gram,freq_1gram,len_,test = create_model(D1_Train,D1_Test)\n",
    "        return dataset1,D1_Train,D1_Test,cprob_3gram,cprob_2gram,freq_1gram,len_,test\n",
    "    else :\n",
    "        if dataset == \"gutenberg\":\n",
    "            gut_sent = gutenberg.sents()\n",
    "            D2_Train,D2_Test = train_test_split(gut_sent,train_size = 0.8 , random_state = 11)\n",
    "            dataset2=[0,0,len(D2_Train),len(D2_Test)]\n",
    "            cprob_3gram,cprob_2gram,freq_1gram,len_,test = create_model(D2_Train,D2_Test)\n",
    "            return dataset2,D2_Train,D2_Test,cprob_3gram,cprob_2gram,freq_1gram,len_,test\n",
    "        else:\n",
    "            if dataset == \"testd1\" :\n",
    "                brown_sent = brown.sents()\n",
    "                gut_sent = gutenberg.sents()\n",
    "                #sent = brown_sent + gut_sent\n",
    "                D3_Train,D3_Test = train_test_split(brown_sent,train_size = 0.6 , random_state = 11)\n",
    "                dataset3=[len(D3_Train),len(D3_Test),len(gut_sent),0]\n",
    "                D3_Train = D3_Train + gut_sent\n",
    "                \n",
    "                cprob_3gram,cprob_2gram,freq_1gram,len_,test = create_model(D3_Train,D3_Test)\n",
    "                return dataset3,D3_Train,D3_Test,cprob_3gram,cprob_2gram,freq_1gram,len_,test\n",
    "            else:\n",
    "                brown_sent = brown.sents()\n",
    "                gut_sent = gutenberg.sents()\n",
    "                #sent = brown_sent + gut_sent\n",
    "                D4_Train,D4_Test = train_test_split(gut_sent,train_size = 0.6 , random_state = 11)\n",
    "                dataset4=[len(brown_sent),0,len(D4_Train),len(D4_Test)]\n",
    "                D4_Train = D4_Train + brown_sent\n",
    "                cprob_3gram,cprob_2gram,freq_1gram,len_,test = create_model(D4_Train,D4_Test)\n",
    "                return dataset4,D4_Train,D4_Test,cprob_3gram,cprob_2gram,freq_1gram,len_,test"
   ]
  },
  {
   "cell_type": "code",
   "execution_count": 36,
   "metadata": {},
   "outputs": [
    {
     "name": "stdout",
     "output_type": "stream",
     "text": [
      "Perplexity on Brown dataset\n",
      "step1\n",
      "step2\n",
      "step3\n",
      "step3\n",
      "step4\n",
      "step5\n"
     ]
    }
   ],
   "source": [
    "print(\"Perplexity on Brown dataset\")\n",
    "dataset1,D1_Train,D1_Test,bcprob_3gram,bcprob_2gram,bfreq_1gram,blen_,btest = try_dataset(\"brown\")"
   ]
  },
  {
   "cell_type": "code",
   "execution_count": 37,
   "metadata": {},
   "outputs": [],
   "source": [
    "bDev,bTest = train_test_split(btest,train_size = 0.5,random_state = 11)\n",
    "dataset1 = dataset1 + [bDev,bTest]"
   ]
  },
  {
   "cell_type": "code",
   "execution_count": 38,
   "metadata": {},
   "outputs": [],
   "source": [
    "def validate(test,cprob_3gram,cprob_2gram,freq_1gram,len_):\n",
    "    perpopt = 10000\n",
    "    l1opt = 0\n",
    "    l2opt = 0\n",
    "    l3opt = 0\n",
    "    for i in lamb1:\n",
    "        for j in lamb2:\n",
    "            if i+j < 0.9 :\n",
    "                k = 1-(i+j)\n",
    "                perp = evaluate_perplexity(test,cprob_3gram,cprob_2gram,freq_1gram,len_,i,j,k)\n",
    "                if perp <= perpopt:\n",
    "                    l1opt,l2opt,l3opt = i,j,k\n",
    "                    perpopt = perp\n",
    "    return perpopt,l1opt,l2opt,l3opt"
   ]
  },
  {
   "cell_type": "code",
   "execution_count": 48,
   "metadata": {},
   "outputs": [],
   "source": [
    "perpopt,l1opt,l2opt,l3opt = validate(bDev,bcprob_3gram,bcprob_2gram,bfreq_1gram,blen_)"
   ]
  },
  {
   "cell_type": "code",
   "execution_count": 49,
   "metadata": {},
   "outputs": [
    {
     "name": "stdout",
     "output_type": "stream",
     "text": [
      "perplexity on DEV\n",
      "137.831212887\n"
     ]
    }
   ],
   "source": [
    "print \"perplexity on DEV\" \n",
    "print perpopt"
   ]
  },
  {
   "cell_type": "code",
   "execution_count": 50,
   "metadata": {},
   "outputs": [
    {
     "name": "stdout",
     "output_type": "stream",
     "text": [
      "perplexity on Test\n",
      "137.876385565\n"
     ]
    }
   ],
   "source": [
    "perplexity = evaluate_perplexity (bTest ,bcprob_3gram, bcprob_2gram, bfreq_1gram,blen_,l1opt,l2opt,l3opt)\n",
    "print \"perplexity on Test\" \n",
    "print perplexity"
   ]
  },
  {
   "cell_type": "code",
   "execution_count": 42,
   "metadata": {},
   "outputs": [
    {
     "name": "stdout",
     "output_type": "stream",
     "text": [
      "Perplexity on Gutenberg dataset\n",
      "step1\n",
      "step2\n",
      "step3\n",
      "step3\n",
      "step4\n",
      "step5\n"
     ]
    }
   ],
   "source": [
    "print(\"Perplexity on Gutenberg dataset\")\n",
    "dataset2,D2_Train,D2_Test,gcprob_3gram,gcprob_2gram,gfreq_1gram,glen_,gtest = try_dataset(\"gutenberg\")"
   ]
  },
  {
   "cell_type": "code",
   "execution_count": 51,
   "metadata": {},
   "outputs": [
    {
     "name": "stdout",
     "output_type": "stream",
     "text": [
      "perplexity on DEV\n",
      "106.046529684\n",
      "perplexity on Test\n",
      "104.599393273\n"
     ]
    }
   ],
   "source": [
    "gDev,gTest = train_test_split(gtest,train_size = 0.5,random_state = 11)\n",
    "dataset2 = dataset2 + [gDev,gTest]\n",
    "perpopt2,l1opt2,l2opt2,l3opt2 = validate(gDev,gcprob_3gram,gcprob_2gram,gfreq_1gram,glen_)\n",
    "print \"perplexity on DEV\" \n",
    "print perpopt2\n",
    "perplexity2 = evaluate_perplexity (gTest ,gcprob_3gram, gcprob_2gram, gfreq_1gram,glen_,l1opt2,l2opt2,l3opt2)\n",
    "print \"perplexity on Test\" \n",
    "print perplexity2"
   ]
  },
  {
   "cell_type": "code",
   "execution_count": 44,
   "metadata": {},
   "outputs": [
    {
     "name": "stdout",
     "output_type": "stream",
     "text": [
      "Perplexity on Brown+Gutenberg dataset,test on brown\n",
      "step1\n",
      "step2\n",
      "step3\n",
      "step3\n",
      "step4\n",
      "step5\n"
     ]
    }
   ],
   "source": [
    "print(\"Perplexity on Brown+Gutenberg dataset,test on brown\")\n",
    "dataset3,D3_Train,D3_Test,mcprob_3gram,mcprob_2gram,mfreq_1gram,mlen_,mtest = try_dataset(\"testd1\")"
   ]
  },
  {
   "cell_type": "code",
   "execution_count": 52,
   "metadata": {},
   "outputs": [
    {
     "name": "stdout",
     "output_type": "stream",
     "text": [
      "perplexity on DEV\n",
      "188.196218936\n",
      "perplexity on Test\n",
      "122.051097814\n"
     ]
    }
   ],
   "source": [
    "mDev,mTest = train_test_split(mtest,train_size = 0.5,random_state = 11)\n",
    "dataset3 = dataset3 + [mDev,mTest]\n",
    "perpopt3,l1opt3,l2opt3,l3opt3 = validate(mDev,mcprob_3gram,mcprob_2gram,mfreq_1gram,mlen_)\n",
    "print \"perplexity on DEV\" \n",
    "print perpopt3\n",
    "perplexity3 = evaluate_perplexity (mTest ,mcprob_3gram, mcprob_2gram, mfreq_1gram,blen_,l1opt3,l2opt3,l3opt3)\n",
    "print \"perplexity on Test\" \n",
    "print perplexity3"
   ]
  },
  {
   "cell_type": "code",
   "execution_count": 46,
   "metadata": {},
   "outputs": [
    {
     "name": "stdout",
     "output_type": "stream",
     "text": [
      "Perplexity on Brown+Gutenberg dataset,test on gutenberg\n",
      "step1\n",
      "step2\n",
      "step3\n",
      "step3\n",
      "step4\n",
      "step5\n"
     ]
    }
   ],
   "source": [
    "print(\"Perplexity on Brown+Gutenberg dataset,test on gutenberg\")\n",
    "dataset4,D4_Train,D4_Test,m2cprob_3gram,m2cprob_2gram,m2freq_1gram,m2len_,m2test = try_dataset(\"testd2\")"
   ]
  },
  {
   "cell_type": "code",
   "execution_count": 53,
   "metadata": {},
   "outputs": [
    {
     "name": "stdout",
     "output_type": "stream",
     "text": [
      "perplexity on DEV\n",
      "111.999632699\n",
      "perplexity on Test\n",
      "83.5633857835\n"
     ]
    }
   ],
   "source": [
    "mDev2,mTest2 = train_test_split(m2test,train_size = 0.5,random_state = 11)\n",
    "dataset4 = dataset4 + [mDev2,mTest2]\n",
    "perpopt4,l1opt4,l2opt4,l3opt4 = validate(mDev2,m2cprob_3gram,m2cprob_2gram,m2freq_1gram,m2len_)\n",
    "print \"perplexity on DEV\" \n",
    "print perpopt4\n",
    "perplexity4 = evaluate_perplexity (mTest2 ,m2cprob_3gram, m2cprob_2gram, m2freq_1gram,blen_,l1opt4,l2opt4,l3opt4)\n",
    "print \"perplexity on Test\" \n",
    "print perplexity4"
   ]
  },
  {
   "cell_type": "code",
   "execution_count": 57,
   "metadata": {},
   "outputs": [
    {
     "name": "stdout",
     "output_type": "stream",
     "text": [
      "dataset S1\n",
      "Brown Train Sentences:45872\n",
      "Brown dev+Test Sentences:11468\n",
      "Gutenberg Train Snetences:0\n",
      "Gutenberg dev+Test Snetences:0\n",
      "Dev sentences:5734\n",
      "Test sentences:5734\n",
      "dataset S2\n",
      "Brown Train Sentences:34404\n",
      "Brown dev+Test Sentences:22936\n",
      "Gutenberg Train Snetences:98552\n",
      "Gutenberg dev+Test Snetences:0\n",
      "Dev sentences:11468\n",
      "Test sentences:11468\n",
      "dataset S3\n",
      "Brown Train Sentences:34404\n",
      "Brown dev+Test Sentences:22936\n",
      "Gutenberg Train Snetences:98552\n",
      "Gutenberg dev+Test Snetences:0\n",
      "Dev sentences:11468\n",
      "Test sentences:11468\n",
      "dataset S4\n",
      "Brown Train Sentences:57340\n",
      "Brown dev+Test Sentences:0\n",
      "Gutenberg Train Snetences:59131\n",
      "Gutenberg dev+Test Snetences:39421\n",
      "Dev sentences:19710\n",
      "Test sentences:19711\n"
     ]
    }
   ],
   "source": [
    "#plots\n",
    "ds=[]\n",
    "dataset1[4]=len(bDev)\n",
    "dataset1[5]=len(bTest)\n",
    "dataset2[4]=len(gDev)\n",
    "dataset2[5]=len(gTest)\n",
    "dataset3[4]=len(mDev)\n",
    "dataset3[5]=len(mTest)\n",
    "dataset4[4]=len(mDev2)\n",
    "dataset4[5]=len(mTest2)\n",
    "\n",
    "ds.append(dataset1)\n",
    "ds.append(dataset3)\n",
    "ds.append(dataset3)\n",
    "ds.append(dataset4)\n",
    "data = ['S1','S2','S3','S4']\n",
    "for i in range(0,4) :\n",
    "    print \"dataset \"+str(data[i])\n",
    "    print \"Brown Train Sentences:\"+str(ds[i][0])\n",
    "    print \"Brown dev+Test Sentences:\"+str(ds[i][1])\n",
    "    print \"Gutenberg Train Snetences:\"+str(ds[i][2])\n",
    "    print \"Gutenberg dev+Test Snetences:\"+str(ds[i][3])\n",
    "    print \"Dev sentences:\"+str(ds[i][4])\n",
    "    print \"Test sentences:\"+str(ds[i][5])\n",
    "   "
   ]
  },
  {
   "cell_type": "code",
   "execution_count": 60,
   "metadata": {},
   "outputs": [
    {
     "data": {
      "image/png": "[encoded data removed]",
      "text/plain": [
       "<matplotlib.figure.Figure at 0x7f031c342990>"
      ]
     },
     "metadata": {},
     "output_type": "display_data"
    }
   ],
   "source": [
    " \n",
    "devp = [perpopt,perpopt2,perpopt3,perpopt4]\n",
    "testp = [perplexity,perplexity2,perplexity3,perplexity4]\n",
    "plt.plot(data,devp,label='devSet')\n",
    "plt.plot(data,testp,label='testSet')\n",
    "plt.xlabel('datasets')\n",
    "plt.ylabel('perplexity')\n",
    "plt.legend()\n",
    "plt.show()"
   ]
  }
 ],
 "metadata": {
  "kernelspec": {
   "display_name": "Python 2",
   "language": "python",
   "name": "python2"
  },
  "language_info": {
   "codemirror_mode": {
    "name": "ipython",
    "version": 2
   },
   "file_extension": ".py",
   "mimetype": "text/x-python",
   "name": "python",
   "nbconvert_exporter": "python",
   "pygments_lexer": "ipython2",
   "version": "2.7.12"
  }
 },
 "nbformat": 4,
 "nbformat_minor": 2
}
